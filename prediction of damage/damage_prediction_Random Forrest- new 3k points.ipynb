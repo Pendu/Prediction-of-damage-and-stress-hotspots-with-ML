{
 "cells": [
  {
   "cell_type": "code",
   "execution_count": 1,
   "metadata": {},
   "outputs": [],
   "source": [
    "%matplotlib inline\n",
    "%reload_ext autoreload\n",
    "%autoreload 2"
   ]
  },
  {
   "cell_type": "code",
   "execution_count": 2,
   "metadata": {},
   "outputs": [],
   "source": [
    "from fastai.structured import *\n",
    "from fastai.column_data import *\n",
    "from fastai.imports import *\n",
    "from pandas_summary import DataFrameSummary\n",
    "from sklearn.ensemble import RandomForestRegressor, RandomForestClassifier\n",
    "from IPython.display import display\n",
    "from sklearn import metrics\n",
    "np.set_printoptions(threshold=50, edgeitems=20)\n",
    "\n",
    "PATH='data/case_study/'"
   ]
  },
  {
   "cell_type": "code",
   "execution_count": 3,
   "metadata": {},
   "outputs": [],
   "source": [
    "data=pd.read_csv(f'{PATH}AllData_new.csv')"
   ]
  },
  {
   "cell_type": "code",
   "execution_count": 4,
   "metadata": {},
   "outputs": [
    {
     "data": {
      "text/html": [
       "<div>\n",
       "<style scoped>\n",
       "    .dataframe tbody tr th:only-of-type {\n",
       "        vertical-align: middle;\n",
       "    }\n",
       "\n",
       "    .dataframe tbody tr th {\n",
       "        vertical-align: top;\n",
       "    }\n",
       "\n",
       "    .dataframe thead th {\n",
       "        text-align: right;\n",
       "    }\n",
       "</style>\n",
       "<table border=\"1\" class=\"dataframe\">\n",
       "  <thead>\n",
       "    <tr style=\"text-align: right;\">\n",
       "      <th></th>\n",
       "      <th>D[-]</th>\n",
       "      <th>D_dot[1/s]</th>\n",
       "      <th>p[-]</th>\n",
       "      <th>p_dot[1/s]</th>\n",
       "      <th>Mises[MPa]</th>\n",
       "      <th>Hydro[MPa]</th>\n",
       "      <th>teq[-]</th>\n",
       "      <th>eeq[-]</th>\n",
       "      <th>V[mm^3]</th>\n",
       "      <th>Sig_tri[-]</th>\n",
       "      <th>LoadingState</th>\n",
       "    </tr>\n",
       "  </thead>\n",
       "  <tbody>\n",
       "    <tr>\n",
       "      <th>3388</th>\n",
       "      <td>0.248556</td>\n",
       "      <td>1.983663</td>\n",
       "      <td>0.062001</td>\n",
       "      <td>0.116834</td>\n",
       "      <td>284.832377</td>\n",
       "      <td>18.745354</td>\n",
       "      <td>0.061949</td>\n",
       "      <td>0.001537</td>\n",
       "      <td>0.000212</td>\n",
       "      <td>0.066052</td>\n",
       "      <td>7.0</td>\n",
       "    </tr>\n",
       "    <tr>\n",
       "      <th>3389</th>\n",
       "      <td>0.248579</td>\n",
       "      <td>1.948299</td>\n",
       "      <td>0.062003</td>\n",
       "      <td>0.116802</td>\n",
       "      <td>284.825419</td>\n",
       "      <td>18.743141</td>\n",
       "      <td>0.061950</td>\n",
       "      <td>0.001537</td>\n",
       "      <td>0.000212</td>\n",
       "      <td>0.066044</td>\n",
       "      <td>7.0</td>\n",
       "    </tr>\n",
       "    <tr>\n",
       "      <th>3390</th>\n",
       "      <td>0.248600</td>\n",
       "      <td>1.886919</td>\n",
       "      <td>0.062004</td>\n",
       "      <td>0.110842</td>\n",
       "      <td>284.818513</td>\n",
       "      <td>18.740990</td>\n",
       "      <td>0.061950</td>\n",
       "      <td>0.001537</td>\n",
       "      <td>0.000212</td>\n",
       "      <td>0.066037</td>\n",
       "      <td>7.0</td>\n",
       "    </tr>\n",
       "    <tr>\n",
       "      <th>3391</th>\n",
       "      <td>0.248601</td>\n",
       "      <td>1.059331</td>\n",
       "      <td>0.062004</td>\n",
       "      <td>0.135451</td>\n",
       "      <td>284.818233</td>\n",
       "      <td>18.740799</td>\n",
       "      <td>0.061951</td>\n",
       "      <td>0.001537</td>\n",
       "      <td>0.000212</td>\n",
       "      <td>0.066036</td>\n",
       "      <td>7.0</td>\n",
       "    </tr>\n",
       "    <tr>\n",
       "      <th>3392</th>\n",
       "      <td>0.248601</td>\n",
       "      <td>1.091343</td>\n",
       "      <td>0.062004</td>\n",
       "      <td>-0.737903</td>\n",
       "      <td>284.817976</td>\n",
       "      <td>18.740666</td>\n",
       "      <td>0.061951</td>\n",
       "      <td>0.001537</td>\n",
       "      <td>0.000212</td>\n",
       "      <td>0.066036</td>\n",
       "      <td>7.0</td>\n",
       "    </tr>\n",
       "  </tbody>\n",
       "</table>\n",
       "</div>"
      ],
      "text/plain": [
       "          D[-]  D_dot[1/s]      p[-]  p_dot[1/s]  Mises[MPa]  Hydro[MPa]  \\\n",
       "3388  0.248556    1.983663  0.062001    0.116834  284.832377   18.745354   \n",
       "3389  0.248579    1.948299  0.062003    0.116802  284.825419   18.743141   \n",
       "3390  0.248600    1.886919  0.062004    0.110842  284.818513   18.740990   \n",
       "3391  0.248601    1.059331  0.062004    0.135451  284.818233   18.740799   \n",
       "3392  0.248601    1.091343  0.062004   -0.737903  284.817976   18.740666   \n",
       "\n",
       "        teq[-]    eeq[-]   V[mm^3]  Sig_tri[-]  LoadingState  \n",
       "3388  0.061949  0.001537  0.000212    0.066052           7.0  \n",
       "3389  0.061950  0.001537  0.000212    0.066044           7.0  \n",
       "3390  0.061950  0.001537  0.000212    0.066037           7.0  \n",
       "3391  0.061951  0.001537  0.000212    0.066036           7.0  \n",
       "3392  0.061951  0.001537  0.000212    0.066036           7.0  "
      ]
     },
     "execution_count": 4,
     "metadata": {},
     "output_type": "execute_result"
    }
   ],
   "source": [
    "data.tail()"
   ]
  },
  {
   "cell_type": "code",
   "execution_count": 5,
   "metadata": {},
   "outputs": [
    {
     "data": {
      "text/plain": [
       "(3393, 11)"
      ]
     },
     "execution_count": 5,
     "metadata": {},
     "output_type": "execute_result"
    }
   ],
   "source": [
    "data.shape"
   ]
  },
  {
   "cell_type": "code",
   "execution_count": 6,
   "metadata": {},
   "outputs": [
    {
     "data": {
      "text/plain": [
       "['D[-]',\n",
       " 'D_dot[1/s]',\n",
       " 'p[-]',\n",
       " 'p_dot[1/s]',\n",
       " 'Mises[MPa]',\n",
       " 'Hydro[MPa]',\n",
       " 'teq[-]',\n",
       " 'eeq[-]',\n",
       " 'V[mm^3]',\n",
       " 'Sig_tri[-]',\n",
       " 'LoadingState']"
      ]
     },
     "execution_count": 6,
     "metadata": {},
     "output_type": "execute_result"
    }
   ],
   "source": [
    "cols = list(data.columns.values)\n",
    "cols"
   ]
  },
  {
   "cell_type": "code",
   "execution_count": 7,
   "metadata": {},
   "outputs": [],
   "source": [
    "damage=data.pop('D[-]')"
   ]
  },
  {
   "cell_type": "code",
   "execution_count": 8,
   "metadata": {},
   "outputs": [],
   "source": [
    "data.insert(0,'D[-]',damage)"
   ]
  },
  {
   "cell_type": "code",
   "execution_count": 9,
   "metadata": {},
   "outputs": [
    {
     "data": {
      "text/html": [
       "<div>\n",
       "<style scoped>\n",
       "    .dataframe tbody tr th:only-of-type {\n",
       "        vertical-align: middle;\n",
       "    }\n",
       "\n",
       "    .dataframe tbody tr th {\n",
       "        vertical-align: top;\n",
       "    }\n",
       "\n",
       "    .dataframe thead th {\n",
       "        text-align: right;\n",
       "    }\n",
       "</style>\n",
       "<table border=\"1\" class=\"dataframe\">\n",
       "  <thead>\n",
       "    <tr style=\"text-align: right;\">\n",
       "      <th></th>\n",
       "      <th>D[-]</th>\n",
       "      <th>D_dot[1/s]</th>\n",
       "      <th>p[-]</th>\n",
       "      <th>p_dot[1/s]</th>\n",
       "      <th>Mises[MPa]</th>\n",
       "      <th>Hydro[MPa]</th>\n",
       "      <th>teq[-]</th>\n",
       "      <th>eeq[-]</th>\n",
       "      <th>V[mm^3]</th>\n",
       "      <th>Sig_tri[-]</th>\n",
       "      <th>LoadingState</th>\n",
       "    </tr>\n",
       "  </thead>\n",
       "  <tbody>\n",
       "    <tr>\n",
       "      <th>3388</th>\n",
       "      <td>0.248556</td>\n",
       "      <td>1.983663</td>\n",
       "      <td>0.062001</td>\n",
       "      <td>0.116834</td>\n",
       "      <td>284.832377</td>\n",
       "      <td>18.745354</td>\n",
       "      <td>0.061949</td>\n",
       "      <td>0.001537</td>\n",
       "      <td>0.000212</td>\n",
       "      <td>0.066052</td>\n",
       "      <td>7.0</td>\n",
       "    </tr>\n",
       "    <tr>\n",
       "      <th>3389</th>\n",
       "      <td>0.248579</td>\n",
       "      <td>1.948299</td>\n",
       "      <td>0.062003</td>\n",
       "      <td>0.116802</td>\n",
       "      <td>284.825419</td>\n",
       "      <td>18.743141</td>\n",
       "      <td>0.061950</td>\n",
       "      <td>0.001537</td>\n",
       "      <td>0.000212</td>\n",
       "      <td>0.066044</td>\n",
       "      <td>7.0</td>\n",
       "    </tr>\n",
       "    <tr>\n",
       "      <th>3390</th>\n",
       "      <td>0.248600</td>\n",
       "      <td>1.886919</td>\n",
       "      <td>0.062004</td>\n",
       "      <td>0.110842</td>\n",
       "      <td>284.818513</td>\n",
       "      <td>18.740990</td>\n",
       "      <td>0.061950</td>\n",
       "      <td>0.001537</td>\n",
       "      <td>0.000212</td>\n",
       "      <td>0.066037</td>\n",
       "      <td>7.0</td>\n",
       "    </tr>\n",
       "    <tr>\n",
       "      <th>3391</th>\n",
       "      <td>0.248601</td>\n",
       "      <td>1.059331</td>\n",
       "      <td>0.062004</td>\n",
       "      <td>0.135451</td>\n",
       "      <td>284.818233</td>\n",
       "      <td>18.740799</td>\n",
       "      <td>0.061951</td>\n",
       "      <td>0.001537</td>\n",
       "      <td>0.000212</td>\n",
       "      <td>0.066036</td>\n",
       "      <td>7.0</td>\n",
       "    </tr>\n",
       "    <tr>\n",
       "      <th>3392</th>\n",
       "      <td>0.248601</td>\n",
       "      <td>1.091343</td>\n",
       "      <td>0.062004</td>\n",
       "      <td>-0.737903</td>\n",
       "      <td>284.817976</td>\n",
       "      <td>18.740666</td>\n",
       "      <td>0.061951</td>\n",
       "      <td>0.001537</td>\n",
       "      <td>0.000212</td>\n",
       "      <td>0.066036</td>\n",
       "      <td>7.0</td>\n",
       "    </tr>\n",
       "  </tbody>\n",
       "</table>\n",
       "</div>"
      ],
      "text/plain": [
       "          D[-]  D_dot[1/s]      p[-]  p_dot[1/s]  Mises[MPa]  Hydro[MPa]  \\\n",
       "3388  0.248556    1.983663  0.062001    0.116834  284.832377   18.745354   \n",
       "3389  0.248579    1.948299  0.062003    0.116802  284.825419   18.743141   \n",
       "3390  0.248600    1.886919  0.062004    0.110842  284.818513   18.740990   \n",
       "3391  0.248601    1.059331  0.062004    0.135451  284.818233   18.740799   \n",
       "3392  0.248601    1.091343  0.062004   -0.737903  284.817976   18.740666   \n",
       "\n",
       "        teq[-]    eeq[-]   V[mm^3]  Sig_tri[-]  LoadingState  \n",
       "3388  0.061949  0.001537  0.000212    0.066052           7.0  \n",
       "3389  0.061950  0.001537  0.000212    0.066044           7.0  \n",
       "3390  0.061950  0.001537  0.000212    0.066037           7.0  \n",
       "3391  0.061951  0.001537  0.000212    0.066036           7.0  \n",
       "3392  0.061951  0.001537  0.000212    0.066036           7.0  "
      ]
     },
     "execution_count": 9,
     "metadata": {},
     "output_type": "execute_result"
    }
   ],
   "source": [
    "data.tail()"
   ]
  },
  {
   "cell_type": "code",
   "execution_count": 10,
   "metadata": {},
   "outputs": [],
   "source": [
    "#cat_vars = []\n",
    "contin_vars = ['D[-]',\n",
    " 'D_dot[1/s]',\n",
    " 'p[-]',\n",
    " 'p_dot[1/s]',\n",
    " 'Mises[MPa]',\n",
    " 'Hydro[MPa]',\n",
    " 'teq[-]',\n",
    " 'eeq[-]',\n",
    " 'V[mm^3]',\n",
    " 'Sig_tri[-]',\n",
    " 'LoadingState']\n"
   ]
  },
  {
   "cell_type": "code",
   "execution_count": 11,
   "metadata": {},
   "outputs": [
    {
     "data": {
      "text/plain": [
       "((2893, 11), (500, 11))"
      ]
     },
     "execution_count": 11,
     "metadata": {},
     "output_type": "execute_result"
    }
   ],
   "source": [
    "def split_vals(a,n): return a[:n].copy(), a[n:].copy()\n",
    "\n",
    "n_test = 500\n",
    "n_trn = len(data)-n_test\n",
    "data_train, data_test = split_vals(data, n_trn)\n",
    "\n",
    "data_train.shape, data_test.shape"
   ]
  },
  {
   "cell_type": "code",
   "execution_count": 12,
   "metadata": {},
   "outputs": [
    {
     "data": {
      "text/html": [
       "<div>\n",
       "<style scoped>\n",
       "    .dataframe tbody tr th:only-of-type {\n",
       "        vertical-align: middle;\n",
       "    }\n",
       "\n",
       "    .dataframe tbody tr th {\n",
       "        vertical-align: top;\n",
       "    }\n",
       "\n",
       "    .dataframe thead th {\n",
       "        text-align: right;\n",
       "    }\n",
       "</style>\n",
       "<table border=\"1\" class=\"dataframe\">\n",
       "  <thead>\n",
       "    <tr style=\"text-align: right;\">\n",
       "      <th></th>\n",
       "      <th>D[-]</th>\n",
       "      <th>D_dot[1/s]</th>\n",
       "      <th>p[-]</th>\n",
       "      <th>p_dot[1/s]</th>\n",
       "      <th>Mises[MPa]</th>\n",
       "      <th>Hydro[MPa]</th>\n",
       "      <th>teq[-]</th>\n",
       "      <th>eeq[-]</th>\n",
       "      <th>V[mm^3]</th>\n",
       "      <th>Sig_tri[-]</th>\n",
       "      <th>LoadingState</th>\n",
       "    </tr>\n",
       "  </thead>\n",
       "  <tbody>\n",
       "    <tr>\n",
       "      <th>3388</th>\n",
       "      <td>0</td>\n",
       "      <td>1.983663</td>\n",
       "      <td>0.062001</td>\n",
       "      <td>0.116834</td>\n",
       "      <td>284.832377</td>\n",
       "      <td>18.745354</td>\n",
       "      <td>0.061949</td>\n",
       "      <td>0.001537</td>\n",
       "      <td>0.000212</td>\n",
       "      <td>0.066052</td>\n",
       "      <td>7.0</td>\n",
       "    </tr>\n",
       "    <tr>\n",
       "      <th>3389</th>\n",
       "      <td>0</td>\n",
       "      <td>1.948299</td>\n",
       "      <td>0.062003</td>\n",
       "      <td>0.116802</td>\n",
       "      <td>284.825419</td>\n",
       "      <td>18.743141</td>\n",
       "      <td>0.061950</td>\n",
       "      <td>0.001537</td>\n",
       "      <td>0.000212</td>\n",
       "      <td>0.066044</td>\n",
       "      <td>7.0</td>\n",
       "    </tr>\n",
       "    <tr>\n",
       "      <th>3390</th>\n",
       "      <td>0</td>\n",
       "      <td>1.886919</td>\n",
       "      <td>0.062004</td>\n",
       "      <td>0.110842</td>\n",
       "      <td>284.818513</td>\n",
       "      <td>18.740990</td>\n",
       "      <td>0.061950</td>\n",
       "      <td>0.001537</td>\n",
       "      <td>0.000212</td>\n",
       "      <td>0.066037</td>\n",
       "      <td>7.0</td>\n",
       "    </tr>\n",
       "    <tr>\n",
       "      <th>3391</th>\n",
       "      <td>0</td>\n",
       "      <td>1.059331</td>\n",
       "      <td>0.062004</td>\n",
       "      <td>0.135451</td>\n",
       "      <td>284.818233</td>\n",
       "      <td>18.740799</td>\n",
       "      <td>0.061951</td>\n",
       "      <td>0.001537</td>\n",
       "      <td>0.000212</td>\n",
       "      <td>0.066036</td>\n",
       "      <td>7.0</td>\n",
       "    </tr>\n",
       "    <tr>\n",
       "      <th>3392</th>\n",
       "      <td>0</td>\n",
       "      <td>1.091343</td>\n",
       "      <td>0.062004</td>\n",
       "      <td>-0.737903</td>\n",
       "      <td>284.817976</td>\n",
       "      <td>18.740666</td>\n",
       "      <td>0.061951</td>\n",
       "      <td>0.001537</td>\n",
       "      <td>0.000212</td>\n",
       "      <td>0.066036</td>\n",
       "      <td>7.0</td>\n",
       "    </tr>\n",
       "  </tbody>\n",
       "</table>\n",
       "</div>"
      ],
      "text/plain": [
       "      D[-]  D_dot[1/s]      p[-]  p_dot[1/s]  Mises[MPa]  Hydro[MPa]  \\\n",
       "3388     0    1.983663  0.062001    0.116834  284.832377   18.745354   \n",
       "3389     0    1.948299  0.062003    0.116802  284.825419   18.743141   \n",
       "3390     0    1.886919  0.062004    0.110842  284.818513   18.740990   \n",
       "3391     0    1.059331  0.062004    0.135451  284.818233   18.740799   \n",
       "3392     0    1.091343  0.062004   -0.737903  284.817976   18.740666   \n",
       "\n",
       "        teq[-]    eeq[-]   V[mm^3]  Sig_tri[-]  LoadingState  \n",
       "3388  0.061949  0.001537  0.000212    0.066052           7.0  \n",
       "3389  0.061950  0.001537  0.000212    0.066044           7.0  \n",
       "3390  0.061950  0.001537  0.000212    0.066037           7.0  \n",
       "3391  0.061951  0.001537  0.000212    0.066036           7.0  \n",
       "3392  0.061951  0.001537  0.000212    0.066036           7.0  "
      ]
     },
     "execution_count": 12,
     "metadata": {},
     "output_type": "execute_result"
    }
   ],
   "source": [
    "dep = 'D[-]'\n",
    "joined_train= data_train[contin_vars].copy() #data_train[contin_vars+cat_vars].copy()\n",
    "joined_test = data_test[contin_vars].copy() #data_test[contin_vars+cat_vars].copy()\n",
    "joined_test[dep] = 0\n",
    "joined_test.tail()"
   ]
  },
  {
   "cell_type": "code",
   "execution_count": 13,
   "metadata": {},
   "outputs": [],
   "source": [
    "for v in contin_vars:\n",
    "    joined_train[v] = joined_train[v].fillna(0).astype('float32')\n",
    "    joined_test[v] = joined_test[v].fillna(0).astype('float32')"
   ]
  },
  {
   "cell_type": "code",
   "execution_count": 16,
   "metadata": {},
   "outputs": [],
   "source": [
    "df_train, y_train, nas,mapper = proc_df(joined_train,dep, do_scale= True)\n",
    "df_test, y_test, nas,mapper = proc_df(joined_test,dep, do_scale= True)"
   ]
  },
  {
   "cell_type": "code",
   "execution_count": 17,
   "metadata": {},
   "outputs": [
    {
     "name": "stderr",
     "output_type": "stream",
     "text": [
      "/home/p_abhijeet666/anaconda3/envs/fastai/lib/python3.6/site-packages/sklearn/ensemble/forest.py:248: FutureWarning: The default value of n_estimators will change from 10 in version 0.20 to 100 in 0.22.\n",
      "  \"10 in version 0.20 to 100 in 0.22.\", FutureWarning)\n"
     ]
    },
    {
     "data": {
      "text/plain": [
       "0.0"
      ]
     },
     "execution_count": 17,
     "metadata": {},
     "output_type": "execute_result"
    }
   ],
   "source": [
    "m = RandomForestRegressor(n_jobs=-1)\n",
    "m.fit(df_train, y_train)\n",
    "m.score(df_test,y_test)"
   ]
  },
  {
   "cell_type": "code",
   "execution_count": 18,
   "metadata": {},
   "outputs": [],
   "source": [
    "def rmse(x,y): return math.sqrt(((x-y)**2).mean())"
   ]
  },
  {
   "cell_type": "code",
   "execution_count": 19,
   "metadata": {},
   "outputs": [
    {
     "data": {
      "text/plain": [
       "0.10911808115726696"
      ]
     },
     "execution_count": 19,
     "metadata": {},
     "output_type": "execute_result"
    }
   ],
   "source": [
    "rmse(m.predict(df_test), y_test)"
   ]
  },
  {
   "cell_type": "code",
   "execution_count": 26,
   "metadata": {},
   "outputs": [
    {
     "data": {
      "text/plain": [
       "0.07903295699532689"
      ]
     },
     "execution_count": 26,
     "metadata": {},
     "output_type": "execute_result"
    }
   ],
   "source": [
    "preds=m.predict(df_test)\n",
    "preds[360]"
   ]
  },
  {
   "cell_type": "code",
   "execution_count": 30,
   "metadata": {},
   "outputs": [
    {
     "data": {
      "text/html": [
       "<div>\n",
       "<style scoped>\n",
       "    .dataframe tbody tr th:only-of-type {\n",
       "        vertical-align: middle;\n",
       "    }\n",
       "\n",
       "    .dataframe tbody tr th {\n",
       "        vertical-align: top;\n",
       "    }\n",
       "\n",
       "    .dataframe thead th {\n",
       "        text-align: right;\n",
       "    }\n",
       "</style>\n",
       "<table border=\"1\" class=\"dataframe\">\n",
       "  <thead>\n",
       "    <tr style=\"text-align: right;\">\n",
       "      <th></th>\n",
       "      <th>cols</th>\n",
       "      <th>imp</th>\n",
       "    </tr>\n",
       "  </thead>\n",
       "  <tbody>\n",
       "    <tr>\n",
       "      <th>3</th>\n",
       "      <td>Mises[MPa]</td>\n",
       "      <td>0.433534</td>\n",
       "    </tr>\n",
       "    <tr>\n",
       "      <th>0</th>\n",
       "      <td>D_dot[1/s]</td>\n",
       "      <td>0.295065</td>\n",
       "    </tr>\n",
       "    <tr>\n",
       "      <th>6</th>\n",
       "      <td>eeq[-]</td>\n",
       "      <td>0.145289</td>\n",
       "    </tr>\n",
       "    <tr>\n",
       "      <th>1</th>\n",
       "      <td>p[-]</td>\n",
       "      <td>0.049748</td>\n",
       "    </tr>\n",
       "    <tr>\n",
       "      <th>4</th>\n",
       "      <td>Hydro[MPa]</td>\n",
       "      <td>0.034760</td>\n",
       "    </tr>\n",
       "    <tr>\n",
       "      <th>5</th>\n",
       "      <td>teq[-]</td>\n",
       "      <td>0.026387</td>\n",
       "    </tr>\n",
       "    <tr>\n",
       "      <th>7</th>\n",
       "      <td>V[mm^3]</td>\n",
       "      <td>0.008054</td>\n",
       "    </tr>\n",
       "    <tr>\n",
       "      <th>8</th>\n",
       "      <td>Sig_tri[-]</td>\n",
       "      <td>0.006664</td>\n",
       "    </tr>\n",
       "    <tr>\n",
       "      <th>2</th>\n",
       "      <td>p_dot[1/s]</td>\n",
       "      <td>0.000421</td>\n",
       "    </tr>\n",
       "    <tr>\n",
       "      <th>9</th>\n",
       "      <td>LoadingState</td>\n",
       "      <td>0.000080</td>\n",
       "    </tr>\n",
       "  </tbody>\n",
       "</table>\n",
       "</div>"
      ],
      "text/plain": [
       "           cols       imp\n",
       "3    Mises[MPa]  0.433534\n",
       "0    D_dot[1/s]  0.295065\n",
       "6        eeq[-]  0.145289\n",
       "1          p[-]  0.049748\n",
       "4    Hydro[MPa]  0.034760\n",
       "5        teq[-]  0.026387\n",
       "7       V[mm^3]  0.008054\n",
       "8    Sig_tri[-]  0.006664\n",
       "2    p_dot[1/s]  0.000421\n",
       "9  LoadingState  0.000080"
      ]
     },
     "execution_count": 30,
     "metadata": {},
     "output_type": "execute_result"
    }
   ],
   "source": [
    "fi = rf_feat_importance(m, df_train);\n",
    "fi[:]"
   ]
  },
  {
   "cell_type": "code",
   "execution_count": 39,
   "metadata": {},
   "outputs": [],
   "source": [
    "def plot_fi(fi): return fi.plot('cols', 'imp', 'barh', figsize=(12,7), legend=False)"
   ]
  },
  {
   "cell_type": "code",
   "execution_count": 40,
   "metadata": {},
   "outputs": [
    {
     "data": {
      "image/png": "[encoded data removed]",
      "text/plain": [
       "<Figure size 864x504 with 1 Axes>"
      ]
     },
     "metadata": {},
     "output_type": "display_data"
    }
   ],
   "source": [
    "plot_fi(fi[:]);"
   ]
  },
  {
   "cell_type": "markdown",
   "metadata": {},
   "source": [
    "def rmse(x,y): return math.sqrt(((x-y)**2).mean())\n",
    "\n",
    "def print_score(m):\n",
    "    res = [rmse(m.predict(X_train), y_train), rmse(m.predict(X_valid), y_valid),\n",
    "                m.score(X_train, y_train), m.score(X_valid, y_valid)]\n",
    "    if hasattr(m, 'oob_score_'): res.append(m.oob_score_)\n",
    "    print(res)"
   ]
  },
  {
   "cell_type": "markdown",
   "metadata": {},
   "source": [
    "m = RandomForestRegressor(n_jobs=-1)\n",
    "%time m.fit(X_train, y_train)\n",
    "print_score(m)"
   ]
  }
 ],
 "metadata": {
  "kernelspec": {
   "display_name": "Python 3",
   "language": "python",
   "name": "python3"
  },
  "language_info": {
   "codemirror_mode": {
    "name": "ipython",
    "version": 3
   },
   "file_extension": ".py",
   "mimetype": "text/x-python",
   "name": "python",
   "nbconvert_exporter": "python",
   "pygments_lexer": "ipython3",
   "version": "3.6.5"
  }
 },
 "nbformat": 4,
 "nbformat_minor": 2
}
