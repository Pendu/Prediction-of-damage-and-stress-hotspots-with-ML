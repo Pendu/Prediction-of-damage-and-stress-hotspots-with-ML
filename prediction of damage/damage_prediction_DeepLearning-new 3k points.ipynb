{
 "cells": [
  {
   "cell_type": "code",
   "execution_count": 1,
   "metadata": {},
   "outputs": [],
   "source": [
    "%matplotlib inline\n",
    "%reload_ext autoreload\n",
    "%autoreload 2"
   ]
  },
  {
   "cell_type": "code",
   "execution_count": 2,
   "metadata": {},
   "outputs": [],
   "source": [
    "from fastai.structured import *\n",
    "from fastai.column_data import *\n",
    "from fastai.imports import *\n",
    "from pandas_summary import DataFrameSummary\n",
    "from sklearn.ensemble import RandomForestRegressor, RandomForestClassifier\n",
    "from sklearn.neural_network import MLPRegressor\n",
    "from IPython.display import display\n",
    "from sklearn import metrics\n",
    "np.set_printoptions(threshold=50, edgeitems=20)\n",
    "\n",
    "PATH='data/case_study/'"
   ]
  },
  {
   "cell_type": "code",
   "execution_count": 3,
   "metadata": {},
   "outputs": [],
   "source": [
    "data=pd.read_csv(f'{PATH}AllData_new.csv')"
   ]
  },
  {
   "cell_type": "code",
   "execution_count": 4,
   "metadata": {},
   "outputs": [
    {
     "data": {
      "text/html": [
       "<div>\n",
       "<style scoped>\n",
       "    .dataframe tbody tr th:only-of-type {\n",
       "        vertical-align: middle;\n",
       "    }\n",
       "\n",
       "    .dataframe tbody tr th {\n",
       "        vertical-align: top;\n",
       "    }\n",
       "\n",
       "    .dataframe thead th {\n",
       "        text-align: right;\n",
       "    }\n",
       "</style>\n",
       "<table border=\"1\" class=\"dataframe\">\n",
       "  <thead>\n",
       "    <tr style=\"text-align: right;\">\n",
       "      <th></th>\n",
       "      <th>D[-]</th>\n",
       "      <th>D_dot[1/s]</th>\n",
       "      <th>p[-]</th>\n",
       "      <th>p_dot[1/s]</th>\n",
       "      <th>Mises[MPa]</th>\n",
       "      <th>Hydro[MPa]</th>\n",
       "      <th>teq[-]</th>\n",
       "      <th>eeq[-]</th>\n",
       "      <th>V[mm^3]</th>\n",
       "      <th>Sig_tri[-]</th>\n",
       "      <th>LoadingState</th>\n",
       "    </tr>\n",
       "  </thead>\n",
       "  <tbody>\n",
       "    <tr>\n",
       "      <th>3388</th>\n",
       "      <td>0.248556</td>\n",
       "      <td>1.983663</td>\n",
       "      <td>0.062001</td>\n",
       "      <td>0.116834</td>\n",
       "      <td>284.832377</td>\n",
       "      <td>18.745354</td>\n",
       "      <td>0.061949</td>\n",
       "      <td>0.001537</td>\n",
       "      <td>0.000212</td>\n",
       "      <td>0.066052</td>\n",
       "      <td>7.0</td>\n",
       "    </tr>\n",
       "    <tr>\n",
       "      <th>3389</th>\n",
       "      <td>0.248579</td>\n",
       "      <td>1.948299</td>\n",
       "      <td>0.062003</td>\n",
       "      <td>0.116802</td>\n",
       "      <td>284.825419</td>\n",
       "      <td>18.743141</td>\n",
       "      <td>0.061950</td>\n",
       "      <td>0.001537</td>\n",
       "      <td>0.000212</td>\n",
       "      <td>0.066044</td>\n",
       "      <td>7.0</td>\n",
       "    </tr>\n",
       "    <tr>\n",
       "      <th>3390</th>\n",
       "      <td>0.248600</td>\n",
       "      <td>1.886919</td>\n",
       "      <td>0.062004</td>\n",
       "      <td>0.110842</td>\n",
       "      <td>284.818513</td>\n",
       "      <td>18.740990</td>\n",
       "      <td>0.061950</td>\n",
       "      <td>0.001537</td>\n",
       "      <td>0.000212</td>\n",
       "      <td>0.066037</td>\n",
       "      <td>7.0</td>\n",
       "    </tr>\n",
       "    <tr>\n",
       "      <th>3391</th>\n",
       "      <td>0.248601</td>\n",
       "      <td>1.059331</td>\n",
       "      <td>0.062004</td>\n",
       "      <td>0.135451</td>\n",
       "      <td>284.818233</td>\n",
       "      <td>18.740799</td>\n",
       "      <td>0.061951</td>\n",
       "      <td>0.001537</td>\n",
       "      <td>0.000212</td>\n",
       "      <td>0.066036</td>\n",
       "      <td>7.0</td>\n",
       "    </tr>\n",
       "    <tr>\n",
       "      <th>3392</th>\n",
       "      <td>0.248601</td>\n",
       "      <td>1.091343</td>\n",
       "      <td>0.062004</td>\n",
       "      <td>-0.737903</td>\n",
       "      <td>284.817976</td>\n",
       "      <td>18.740666</td>\n",
       "      <td>0.061951</td>\n",
       "      <td>0.001537</td>\n",
       "      <td>0.000212</td>\n",
       "      <td>0.066036</td>\n",
       "      <td>7.0</td>\n",
       "    </tr>\n",
       "  </tbody>\n",
       "</table>\n",
       "</div>"
      ],
      "text/plain": [
       "          D[-]  D_dot[1/s]      p[-]  p_dot[1/s]  Mises[MPa]  Hydro[MPa]  \\\n",
       "3388  0.248556    1.983663  0.062001    0.116834  284.832377   18.745354   \n",
       "3389  0.248579    1.948299  0.062003    0.116802  284.825419   18.743141   \n",
       "3390  0.248600    1.886919  0.062004    0.110842  284.818513   18.740990   \n",
       "3391  0.248601    1.059331  0.062004    0.135451  284.818233   18.740799   \n",
       "3392  0.248601    1.091343  0.062004   -0.737903  284.817976   18.740666   \n",
       "\n",
       "        teq[-]    eeq[-]   V[mm^3]  Sig_tri[-]  LoadingState  \n",
       "3388  0.061949  0.001537  0.000212    0.066052           7.0  \n",
       "3389  0.061950  0.001537  0.000212    0.066044           7.0  \n",
       "3390  0.061950  0.001537  0.000212    0.066037           7.0  \n",
       "3391  0.061951  0.001537  0.000212    0.066036           7.0  \n",
       "3392  0.061951  0.001537  0.000212    0.066036           7.0  "
      ]
     },
     "execution_count": 4,
     "metadata": {},
     "output_type": "execute_result"
    }
   ],
   "source": [
    "data.tail()"
   ]
  },
  {
   "cell_type": "code",
   "execution_count": 5,
   "metadata": {},
   "outputs": [
    {
     "data": {
      "text/plain": [
       "(3393, 11)"
      ]
     },
     "execution_count": 5,
     "metadata": {},
     "output_type": "execute_result"
    }
   ],
   "source": [
    "data.shape"
   ]
  },
  {
   "cell_type": "code",
   "execution_count": 6,
   "metadata": {},
   "outputs": [
    {
     "data": {
      "text/plain": [
       "['D[-]',\n",
       " 'D_dot[1/s]',\n",
       " 'p[-]',\n",
       " 'p_dot[1/s]',\n",
       " 'Mises[MPa]',\n",
       " 'Hydro[MPa]',\n",
       " 'teq[-]',\n",
       " 'eeq[-]',\n",
       " 'V[mm^3]',\n",
       " 'Sig_tri[-]',\n",
       " 'LoadingState']"
      ]
     },
     "execution_count": 6,
     "metadata": {},
     "output_type": "execute_result"
    }
   ],
   "source": [
    "cols = list(data.columns.values)\n",
    "cols"
   ]
  },
  {
   "cell_type": "code",
   "execution_count": 7,
   "metadata": {},
   "outputs": [],
   "source": [
    "damage=data.pop('D[-]')"
   ]
  },
  {
   "cell_type": "code",
   "execution_count": 8,
   "metadata": {},
   "outputs": [],
   "source": [
    "data.insert(0,'D[-]',damage)"
   ]
  },
  {
   "cell_type": "code",
   "execution_count": 9,
   "metadata": {},
   "outputs": [
    {
     "data": {
      "text/html": [
       "<div>\n",
       "<style scoped>\n",
       "    .dataframe tbody tr th:only-of-type {\n",
       "        vertical-align: middle;\n",
       "    }\n",
       "\n",
       "    .dataframe tbody tr th {\n",
       "        vertical-align: top;\n",
       "    }\n",
       "\n",
       "    .dataframe thead th {\n",
       "        text-align: right;\n",
       "    }\n",
       "</style>\n",
       "<table border=\"1\" class=\"dataframe\">\n",
       "  <thead>\n",
       "    <tr style=\"text-align: right;\">\n",
       "      <th></th>\n",
       "      <th>D[-]</th>\n",
       "      <th>D_dot[1/s]</th>\n",
       "      <th>p[-]</th>\n",
       "      <th>p_dot[1/s]</th>\n",
       "      <th>Mises[MPa]</th>\n",
       "      <th>Hydro[MPa]</th>\n",
       "      <th>teq[-]</th>\n",
       "      <th>eeq[-]</th>\n",
       "      <th>V[mm^3]</th>\n",
       "      <th>Sig_tri[-]</th>\n",
       "      <th>LoadingState</th>\n",
       "    </tr>\n",
       "  </thead>\n",
       "  <tbody>\n",
       "    <tr>\n",
       "      <th>3388</th>\n",
       "      <td>0.248556</td>\n",
       "      <td>1.983663</td>\n",
       "      <td>0.062001</td>\n",
       "      <td>0.116834</td>\n",
       "      <td>284.832377</td>\n",
       "      <td>18.745354</td>\n",
       "      <td>0.061949</td>\n",
       "      <td>0.001537</td>\n",
       "      <td>0.000212</td>\n",
       "      <td>0.066052</td>\n",
       "      <td>7.0</td>\n",
       "    </tr>\n",
       "    <tr>\n",
       "      <th>3389</th>\n",
       "      <td>0.248579</td>\n",
       "      <td>1.948299</td>\n",
       "      <td>0.062003</td>\n",
       "      <td>0.116802</td>\n",
       "      <td>284.825419</td>\n",
       "      <td>18.743141</td>\n",
       "      <td>0.061950</td>\n",
       "      <td>0.001537</td>\n",
       "      <td>0.000212</td>\n",
       "      <td>0.066044</td>\n",
       "      <td>7.0</td>\n",
       "    </tr>\n",
       "    <tr>\n",
       "      <th>3390</th>\n",
       "      <td>0.248600</td>\n",
       "      <td>1.886919</td>\n",
       "      <td>0.062004</td>\n",
       "      <td>0.110842</td>\n",
       "      <td>284.818513</td>\n",
       "      <td>18.740990</td>\n",
       "      <td>0.061950</td>\n",
       "      <td>0.001537</td>\n",
       "      <td>0.000212</td>\n",
       "      <td>0.066037</td>\n",
       "      <td>7.0</td>\n",
       "    </tr>\n",
       "    <tr>\n",
       "      <th>3391</th>\n",
       "      <td>0.248601</td>\n",
       "      <td>1.059331</td>\n",
       "      <td>0.062004</td>\n",
       "      <td>0.135451</td>\n",
       "      <td>284.818233</td>\n",
       "      <td>18.740799</td>\n",
       "      <td>0.061951</td>\n",
       "      <td>0.001537</td>\n",
       "      <td>0.000212</td>\n",
       "      <td>0.066036</td>\n",
       "      <td>7.0</td>\n",
       "    </tr>\n",
       "    <tr>\n",
       "      <th>3392</th>\n",
       "      <td>0.248601</td>\n",
       "      <td>1.091343</td>\n",
       "      <td>0.062004</td>\n",
       "      <td>-0.737903</td>\n",
       "      <td>284.817976</td>\n",
       "      <td>18.740666</td>\n",
       "      <td>0.061951</td>\n",
       "      <td>0.001537</td>\n",
       "      <td>0.000212</td>\n",
       "      <td>0.066036</td>\n",
       "      <td>7.0</td>\n",
       "    </tr>\n",
       "  </tbody>\n",
       "</table>\n",
       "</div>"
      ],
      "text/plain": [
       "          D[-]  D_dot[1/s]      p[-]  p_dot[1/s]  Mises[MPa]  Hydro[MPa]  \\\n",
       "3388  0.248556    1.983663  0.062001    0.116834  284.832377   18.745354   \n",
       "3389  0.248579    1.948299  0.062003    0.116802  284.825419   18.743141   \n",
       "3390  0.248600    1.886919  0.062004    0.110842  284.818513   18.740990   \n",
       "3391  0.248601    1.059331  0.062004    0.135451  284.818233   18.740799   \n",
       "3392  0.248601    1.091343  0.062004   -0.737903  284.817976   18.740666   \n",
       "\n",
       "        teq[-]    eeq[-]   V[mm^3]  Sig_tri[-]  LoadingState  \n",
       "3388  0.061949  0.001537  0.000212    0.066052           7.0  \n",
       "3389  0.061950  0.001537  0.000212    0.066044           7.0  \n",
       "3390  0.061950  0.001537  0.000212    0.066037           7.0  \n",
       "3391  0.061951  0.001537  0.000212    0.066036           7.0  \n",
       "3392  0.061951  0.001537  0.000212    0.066036           7.0  "
      ]
     },
     "execution_count": 9,
     "metadata": {},
     "output_type": "execute_result"
    }
   ],
   "source": [
    "data.tail()"
   ]
  },
  {
   "cell_type": "code",
   "execution_count": 10,
   "metadata": {},
   "outputs": [],
   "source": [
    "#cat_vars = []\n",
    "contin_vars = ['D[-]',\n",
    " 'D_dot[1/s]',\n",
    " 'p[-]',\n",
    " 'p_dot[1/s]',\n",
    " 'Mises[MPa]',\n",
    " 'Hydro[MPa]',\n",
    " 'teq[-]',\n",
    " 'eeq[-]',\n",
    " 'V[mm^3]',\n",
    " 'Sig_tri[-]',\n",
    " 'LoadingState']\n"
   ]
  },
  {
   "cell_type": "code",
   "execution_count": 11,
   "metadata": {},
   "outputs": [
    {
     "data": {
      "text/plain": [
       "((2893, 11), (500, 11))"
      ]
     },
     "execution_count": 11,
     "metadata": {},
     "output_type": "execute_result"
    }
   ],
   "source": [
    "def split_vals(a,n): return a[:n].copy(), a[n:].copy()\n",
    "\n",
    "n_test = 500  \n",
    "n_trn = len(data)-n_test\n",
    "data_train, data_test = split_vals(data, n_trn)\n",
    "\n",
    "data_train.shape, data_test.shape"
   ]
  },
  {
   "cell_type": "code",
   "execution_count": 12,
   "metadata": {},
   "outputs": [
    {
     "data": {
      "text/html": [
       "<div>\n",
       "<style scoped>\n",
       "    .dataframe tbody tr th:only-of-type {\n",
       "        vertical-align: middle;\n",
       "    }\n",
       "\n",
       "    .dataframe tbody tr th {\n",
       "        vertical-align: top;\n",
       "    }\n",
       "\n",
       "    .dataframe thead th {\n",
       "        text-align: right;\n",
       "    }\n",
       "</style>\n",
       "<table border=\"1\" class=\"dataframe\">\n",
       "  <thead>\n",
       "    <tr style=\"text-align: right;\">\n",
       "      <th></th>\n",
       "      <th>D[-]</th>\n",
       "      <th>D_dot[1/s]</th>\n",
       "      <th>p[-]</th>\n",
       "      <th>p_dot[1/s]</th>\n",
       "      <th>Mises[MPa]</th>\n",
       "      <th>Hydro[MPa]</th>\n",
       "      <th>teq[-]</th>\n",
       "      <th>eeq[-]</th>\n",
       "      <th>V[mm^3]</th>\n",
       "      <th>Sig_tri[-]</th>\n",
       "      <th>LoadingState</th>\n",
       "    </tr>\n",
       "  </thead>\n",
       "  <tbody>\n",
       "    <tr>\n",
       "      <th>3388</th>\n",
       "      <td>0</td>\n",
       "      <td>1.983663</td>\n",
       "      <td>0.062001</td>\n",
       "      <td>0.116834</td>\n",
       "      <td>284.832377</td>\n",
       "      <td>18.745354</td>\n",
       "      <td>0.061949</td>\n",
       "      <td>0.001537</td>\n",
       "      <td>0.000212</td>\n",
       "      <td>0.066052</td>\n",
       "      <td>7.0</td>\n",
       "    </tr>\n",
       "    <tr>\n",
       "      <th>3389</th>\n",
       "      <td>0</td>\n",
       "      <td>1.948299</td>\n",
       "      <td>0.062003</td>\n",
       "      <td>0.116802</td>\n",
       "      <td>284.825419</td>\n",
       "      <td>18.743141</td>\n",
       "      <td>0.061950</td>\n",
       "      <td>0.001537</td>\n",
       "      <td>0.000212</td>\n",
       "      <td>0.066044</td>\n",
       "      <td>7.0</td>\n",
       "    </tr>\n",
       "    <tr>\n",
       "      <th>3390</th>\n",
       "      <td>0</td>\n",
       "      <td>1.886919</td>\n",
       "      <td>0.062004</td>\n",
       "      <td>0.110842</td>\n",
       "      <td>284.818513</td>\n",
       "      <td>18.740990</td>\n",
       "      <td>0.061950</td>\n",
       "      <td>0.001537</td>\n",
       "      <td>0.000212</td>\n",
       "      <td>0.066037</td>\n",
       "      <td>7.0</td>\n",
       "    </tr>\n",
       "    <tr>\n",
       "      <th>3391</th>\n",
       "      <td>0</td>\n",
       "      <td>1.059331</td>\n",
       "      <td>0.062004</td>\n",
       "      <td>0.135451</td>\n",
       "      <td>284.818233</td>\n",
       "      <td>18.740799</td>\n",
       "      <td>0.061951</td>\n",
       "      <td>0.001537</td>\n",
       "      <td>0.000212</td>\n",
       "      <td>0.066036</td>\n",
       "      <td>7.0</td>\n",
       "    </tr>\n",
       "    <tr>\n",
       "      <th>3392</th>\n",
       "      <td>0</td>\n",
       "      <td>1.091343</td>\n",
       "      <td>0.062004</td>\n",
       "      <td>-0.737903</td>\n",
       "      <td>284.817976</td>\n",
       "      <td>18.740666</td>\n",
       "      <td>0.061951</td>\n",
       "      <td>0.001537</td>\n",
       "      <td>0.000212</td>\n",
       "      <td>0.066036</td>\n",
       "      <td>7.0</td>\n",
       "    </tr>\n",
       "  </tbody>\n",
       "</table>\n",
       "</div>"
      ],
      "text/plain": [
       "      D[-]  D_dot[1/s]      p[-]  p_dot[1/s]  Mises[MPa]  Hydro[MPa]  \\\n",
       "3388     0    1.983663  0.062001    0.116834  284.832377   18.745354   \n",
       "3389     0    1.948299  0.062003    0.116802  284.825419   18.743141   \n",
       "3390     0    1.886919  0.062004    0.110842  284.818513   18.740990   \n",
       "3391     0    1.059331  0.062004    0.135451  284.818233   18.740799   \n",
       "3392     0    1.091343  0.062004   -0.737903  284.817976   18.740666   \n",
       "\n",
       "        teq[-]    eeq[-]   V[mm^3]  Sig_tri[-]  LoadingState  \n",
       "3388  0.061949  0.001537  0.000212    0.066052           7.0  \n",
       "3389  0.061950  0.001537  0.000212    0.066044           7.0  \n",
       "3390  0.061950  0.001537  0.000212    0.066037           7.0  \n",
       "3391  0.061951  0.001537  0.000212    0.066036           7.0  \n",
       "3392  0.061951  0.001537  0.000212    0.066036           7.0  "
      ]
     },
     "execution_count": 12,
     "metadata": {},
     "output_type": "execute_result"
    }
   ],
   "source": [
    "dep = 'D[-]'\n",
    "joined_train = data_train[contin_vars].copy()#data_train[cat_vars+contin_vars].copy()\n",
    "joined_test = data_test[contin_vars].copy() #data_test[cat_vars+contin_vars].copy()\n",
    "joined_test[dep] = 0\n",
    "joined_test.tail()"
   ]
  },
  {
   "cell_type": "code",
   "execution_count": 13,
   "metadata": {},
   "outputs": [],
   "source": [
    "#for v in cat_vars: joined[v] = joined[v].astype('category').cat.as_ordered()\n",
    "#apply_cats(joined_test, joined)\n",
    "for v in contin_vars:\n",
    "    joined_train[v] = joined_train[v].fillna(0).astype('float32')\n",
    "    joined_test[v] = joined_test[v].fillna(0).astype('float32')"
   ]
  },
  {
   "cell_type": "code",
   "execution_count": 19,
   "metadata": {},
   "outputs": [],
   "source": [
    "df_train, y_train, nas,mapper = proc_df(joined_train,dep, do_scale= True)\n",
    "df_test, y_test, nas,mapper = proc_df(joined_test,dep, do_scale= True)"
   ]
  },
  {
   "cell_type": "code",
   "execution_count": 21,
   "metadata": {},
   "outputs": [
    {
     "data": {
      "text/html": [
       "<div>\n",
       "<style scoped>\n",
       "    .dataframe tbody tr th:only-of-type {\n",
       "        vertical-align: middle;\n",
       "    }\n",
       "\n",
       "    .dataframe tbody tr th {\n",
       "        vertical-align: top;\n",
       "    }\n",
       "\n",
       "    .dataframe thead th {\n",
       "        text-align: right;\n",
       "    }\n",
       "</style>\n",
       "<table border=\"1\" class=\"dataframe\">\n",
       "  <thead>\n",
       "    <tr style=\"text-align: right;\">\n",
       "      <th></th>\n",
       "      <th>D_dot[1/s]</th>\n",
       "      <th>p[-]</th>\n",
       "      <th>p_dot[1/s]</th>\n",
       "      <th>Mises[MPa]</th>\n",
       "      <th>Hydro[MPa]</th>\n",
       "      <th>teq[-]</th>\n",
       "      <th>eeq[-]</th>\n",
       "      <th>V[mm^3]</th>\n",
       "      <th>Sig_tri[-]</th>\n",
       "      <th>LoadingState</th>\n",
       "    </tr>\n",
       "  </thead>\n",
       "  <tbody>\n",
       "    <tr>\n",
       "      <th>2888</th>\n",
       "      <td>-0.046843</td>\n",
       "      <td>1.722374</td>\n",
       "      <td>-0.074571</td>\n",
       "      <td>-0.770446</td>\n",
       "      <td>-0.915174</td>\n",
       "      <td>1.726592</td>\n",
       "      <td>1.738634</td>\n",
       "      <td>1.346114</td>\n",
       "      <td>-1.202803</td>\n",
       "      <td>1.432075</td>\n",
       "    </tr>\n",
       "    <tr>\n",
       "      <th>2889</th>\n",
       "      <td>-0.046420</td>\n",
       "      <td>1.722685</td>\n",
       "      <td>-0.074298</td>\n",
       "      <td>-0.771683</td>\n",
       "      <td>-0.914918</td>\n",
       "      <td>1.726921</td>\n",
       "      <td>1.743508</td>\n",
       "      <td>1.347383</td>\n",
       "      <td>-1.199008</td>\n",
       "      <td>1.432075</td>\n",
       "    </tr>\n",
       "    <tr>\n",
       "      <th>2890</th>\n",
       "      <td>-0.045663</td>\n",
       "      <td>1.723151</td>\n",
       "      <td>-0.073747</td>\n",
       "      <td>-0.773544</td>\n",
       "      <td>-0.914546</td>\n",
       "      <td>1.727415</td>\n",
       "      <td>1.751009</td>\n",
       "      <td>1.349262</td>\n",
       "      <td>-1.199333</td>\n",
       "      <td>1.432075</td>\n",
       "    </tr>\n",
       "    <tr>\n",
       "      <th>2891</th>\n",
       "      <td>-0.044897</td>\n",
       "      <td>1.723501</td>\n",
       "      <td>-0.072967</td>\n",
       "      <td>-0.774933</td>\n",
       "      <td>-0.914268</td>\n",
       "      <td>1.727787</td>\n",
       "      <td>1.756781</td>\n",
       "      <td>1.350634</td>\n",
       "      <td>-1.199549</td>\n",
       "      <td>1.432075</td>\n",
       "    </tr>\n",
       "    <tr>\n",
       "      <th>2892</th>\n",
       "      <td>-0.044172</td>\n",
       "      <td>1.723764</td>\n",
       "      <td>-0.072231</td>\n",
       "      <td>-0.775976</td>\n",
       "      <td>-0.914059</td>\n",
       "      <td>1.728065</td>\n",
       "      <td>1.761213</td>\n",
       "      <td>1.351700</td>\n",
       "      <td>-1.199694</td>\n",
       "      <td>1.432075</td>\n",
       "    </tr>\n",
       "  </tbody>\n",
       "</table>\n",
       "</div>"
      ],
      "text/plain": [
       "      D_dot[1/s]      p[-]  p_dot[1/s]  Mises[MPa]  Hydro[MPa]    teq[-]  \\\n",
       "2888   -0.046843  1.722374   -0.074571   -0.770446   -0.915174  1.726592   \n",
       "2889   -0.046420  1.722685   -0.074298   -0.771683   -0.914918  1.726921   \n",
       "2890   -0.045663  1.723151   -0.073747   -0.773544   -0.914546  1.727415   \n",
       "2891   -0.044897  1.723501   -0.072967   -0.774933   -0.914268  1.727787   \n",
       "2892   -0.044172  1.723764   -0.072231   -0.775976   -0.914059  1.728065   \n",
       "\n",
       "        eeq[-]   V[mm^3]  Sig_tri[-]  LoadingState  \n",
       "2888  1.738634  1.346114   -1.202803      1.432075  \n",
       "2889  1.743508  1.347383   -1.199008      1.432075  \n",
       "2890  1.751009  1.349262   -1.199333      1.432075  \n",
       "2891  1.756781  1.350634   -1.199549      1.432075  \n",
       "2892  1.761213  1.351700   -1.199694      1.432075  "
      ]
     },
     "execution_count": 21,
     "metadata": {},
     "output_type": "execute_result"
    }
   ],
   "source": [
    "df_train.tail()"
   ]
  },
  {
   "cell_type": "code",
   "execution_count": 41,
   "metadata": {},
   "outputs": [
    {
     "data": {
      "text/plain": [
       "MLPRegressor(activation='relu', alpha=0.01, batch_size='auto', beta_1=0.9,\n",
       "       beta_2=0.999, early_stopping=False, epsilon=1e-08,\n",
       "       hidden_layer_sizes=(300,), learning_rate='constant',\n",
       "       learning_rate_init=0.001, max_iter=1000, momentum=0.9,\n",
       "       n_iter_no_change=10, nesterovs_momentum=True, power_t=0.5,\n",
       "       random_state=None, shuffle=True, solver='adam', tol=0.0001,\n",
       "       validation_fraction=0.1, verbose=False, warm_start=False)"
      ]
     },
     "execution_count": 41,
     "metadata": {},
     "output_type": "execute_result"
    }
   ],
   "source": [
    "m = MLPRegressor(hidden_layer_sizes=(300,), activation= 'relu', alpha=0.01,max_iter=1000)\n",
    "m.fit(df_train, y_train)"
   ]
  },
  {
   "cell_type": "code",
   "execution_count": null,
   "metadata": {},
   "outputs": [],
   "source": []
  },
  {
   "cell_type": "code",
   "execution_count": 42,
   "metadata": {},
   "outputs": [],
   "source": [
    "def rmse(x,y): return math.sqrt(((x-y)**2).mean())"
   ]
  },
  {
   "cell_type": "code",
   "execution_count": 43,
   "metadata": {},
   "outputs": [
    {
     "data": {
      "text/plain": [
       "0.1609383580568415"
      ]
     },
     "execution_count": 43,
     "metadata": {},
     "output_type": "execute_result"
    }
   ],
   "source": [
    "rmse(m.predict(df_test), y_test)"
   ]
  },
  {
   "cell_type": "code",
   "execution_count": 44,
   "metadata": {},
   "outputs": [
    {
     "data": {
      "text/plain": [
       "0.1646877253533804"
      ]
     },
     "execution_count": 44,
     "metadata": {},
     "output_type": "execute_result"
    }
   ],
   "source": [
    "preds=m.predict(df_test)\n",
    "preds[360]"
   ]
  }
 ],
 "metadata": {
  "kernelspec": {
   "display_name": "Python 3",
   "language": "python",
   "name": "python3"
  },
  "language_info": {
   "codemirror_mode": {
    "name": "ipython",
    "version": 3
   },
   "file_extension": ".py",
   "mimetype": "text/x-python",
   "name": "python",
   "nbconvert_exporter": "python",
   "pygments_lexer": "ipython3",
   "version": "3.6.5"
  }
 },
 "nbformat": 4,
 "nbformat_minor": 2
}
