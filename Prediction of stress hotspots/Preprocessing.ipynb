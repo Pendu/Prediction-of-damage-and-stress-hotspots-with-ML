{
 "cells": [
  {
   "cell_type": "code",
   "execution_count": 1,
   "metadata": {},
   "outputs": [
    {
     "name": "stderr",
     "output_type": "stream",
     "text": [
      "C:\\ProgramData\\Anaconda3\\lib\\site-packages\\h5py\\__init__.py:36: FutureWarning: Conversion of the second argument of issubdtype from `float` to `np.floating` is deprecated. In future, it will be treated as `np.float64 == np.dtype(float).type`.\n",
      "  from ._conv import register_converters as _register_converters\n"
     ]
    }
   ],
   "source": [
    "import pandas as pd\n",
    "import numpy as np\n",
    "import h5py\n",
    "import glob\n",
    "import matplotlib.pyplot as plt\n",
    "%matplotlib inline\n",
    "import os\n",
    "import json\n",
    "from pandas.io.json import json_normalize"
   ]
  },
  {
   "cell_type": "markdown",
   "metadata": {},
   "source": [
    "# Read GrainWise Data"
   ]
  },
  {
   "cell_type": "code",
   "execution_count": 2,
   "metadata": {},
   "outputs": [
    {
     "name": "stdout",
     "output_type": "stream",
     "text": [
      "['D:\\\\Documents\\\\Comp Eng\\\\semester 6\\\\case study\\\\synthetic-fcc-3d-polycrystalline-microstructures-with-grain-wise-microstructural-descriptors-and-stress-fields-under-uniaxial-tensile-deformation\\\\FCC_grainwise\\\\micro1_all_grainwise.csv', 'D:\\\\Documents\\\\Comp Eng\\\\semester 6\\\\case study\\\\synthetic-fcc-3d-polycrystalline-microstructures-with-grain-wise-microstructural-descriptors-and-stress-fields-under-uniaxial-tensile-deformation\\\\FCC_grainwise\\\\micro2_all_grainwise.csv', 'D:\\\\Documents\\\\Comp Eng\\\\semester 6\\\\case study\\\\synthetic-fcc-3d-polycrystalline-microstructures-with-grain-wise-microstructural-descriptors-and-stress-fields-under-uniaxial-tensile-deformation\\\\FCC_grainwise\\\\micro3_all_grainwise.csv', 'D:\\\\Documents\\\\Comp Eng\\\\semester 6\\\\case study\\\\synthetic-fcc-3d-polycrystalline-microstructures-with-grain-wise-microstructural-descriptors-and-stress-fields-under-uniaxial-tensile-deformation\\\\FCC_grainwise\\\\micro4_all_grainwise.csv', 'D:\\\\Documents\\\\Comp Eng\\\\semester 6\\\\case study\\\\synthetic-fcc-3d-polycrystalline-microstructures-with-grain-wise-microstructural-descriptors-and-stress-fields-under-uniaxial-tensile-deformation\\\\FCC_grainwise\\\\micro5_all_grainwise.csv', 'D:\\\\Documents\\\\Comp Eng\\\\semester 6\\\\case study\\\\synthetic-fcc-3d-polycrystalline-microstructures-with-grain-wise-microstructural-descriptors-and-stress-fields-under-uniaxial-tensile-deformation\\\\FCC_grainwise\\\\micro6_all_grainwise.csv']\n"
     ]
    }
   ],
   "source": [
    "file_path_grainwise = 'D:\\Documents\\Comp Eng\\semester 6\\case study\\synthetic-fcc-3d-polycrystalline-microstructures-with-grain-wise-microstructural-descriptors-and-stress-fields-under-uniaxial-tensile-deformation\\FCC_grainwise/*'\n",
    "grainwise_flist = glob.glob(file_path_grainwise)\n",
    "\n",
    "print(grainwise_flist)"
   ]
  },
  {
   "cell_type": "code",
   "execution_count": 3,
   "metadata": {},
   "outputs": [
    {
     "data": {
      "text/html": [
       "<div>\n",
       "<style scoped>\n",
       "    .dataframe tbody tr th:only-of-type {\n",
       "        vertical-align: middle;\n",
       "    }\n",
       "\n",
       "    .dataframe tbody tr th {\n",
       "        vertical-align: top;\n",
       "    }\n",
       "\n",
       "    .dataframe thead th {\n",
       "        text-align: right;\n",
       "    }\n",
       "</style>\n",
       "<table border=\"1\" class=\"dataframe\">\n",
       "  <thead>\n",
       "    <tr style=\"text-align: right;\">\n",
       "      <th></th>\n",
       "      <th>001_IPF_0</th>\n",
       "      <th>001_IPF_1</th>\n",
       "      <th>001_IPF_2</th>\n",
       "      <th>100_IPF_0</th>\n",
       "      <th>100_IPF_1</th>\n",
       "      <th>100_IPF_2</th>\n",
       "      <th>111_IPF_0</th>\n",
       "      <th>111_IPF_1</th>\n",
       "      <th>111_IPF_2</th>\n",
       "      <th>AspectRatios_0</th>\n",
       "      <th>...</th>\n",
       "      <th>euler_2</th>\n",
       "      <th>euler_3</th>\n",
       "      <th>fileID</th>\n",
       "      <th>file_source</th>\n",
       "      <th>hotspot</th>\n",
       "      <th>mPrimeList</th>\n",
       "      <th>ngr</th>\n",
       "      <th>x</th>\n",
       "      <th>y</th>\n",
       "      <th>z</th>\n",
       "    </tr>\n",
       "  </thead>\n",
       "  <tbody>\n",
       "    <tr>\n",
       "      <th>0</th>\n",
       "      <td>0.314819</td>\n",
       "      <td>0.427569</td>\n",
       "      <td>0.274501</td>\n",
       "      <td>0.214385</td>\n",
       "      <td>0.460550</td>\n",
       "      <td>0.372547</td>\n",
       "      <td>0.255733</td>\n",
       "      <td>0.607882</td>\n",
       "      <td>0.669000</td>\n",
       "      <td>0.821072</td>\n",
       "      <td>...</td>\n",
       "      <td>105.532</td>\n",
       "      <td>52.351</td>\n",
       "      <td>1</td>\n",
       "      <td>1</td>\n",
       "      <td>False</td>\n",
       "      <td>0.588892</td>\n",
       "      <td>1</td>\n",
       "      <td>18.311573</td>\n",
       "      <td>66.718101</td>\n",
       "      <td>101.940653</td>\n",
       "    </tr>\n",
       "    <tr>\n",
       "      <th>1</th>\n",
       "      <td>0.216026</td>\n",
       "      <td>0.467399</td>\n",
       "      <td>0.384040</td>\n",
       "      <td>0.542158</td>\n",
       "      <td>0.444626</td>\n",
       "      <td>0.125266</td>\n",
       "      <td>0.060509</td>\n",
       "      <td>0.545659</td>\n",
       "      <td>0.526708</td>\n",
       "      <td>0.896180</td>\n",
       "      <td>...</td>\n",
       "      <td>116.838</td>\n",
       "      <td>110.042</td>\n",
       "      <td>1</td>\n",
       "      <td>1</td>\n",
       "      <td>False</td>\n",
       "      <td>0.129135</td>\n",
       "      <td>2</td>\n",
       "      <td>97.708333</td>\n",
       "      <td>45.970238</td>\n",
       "      <td>72.699405</td>\n",
       "    </tr>\n",
       "    <tr>\n",
       "      <th>2</th>\n",
       "      <td>0.117264</td>\n",
       "      <td>0.510865</td>\n",
       "      <td>0.470377</td>\n",
       "      <td>0.248346</td>\n",
       "      <td>0.467535</td>\n",
       "      <td>0.376097</td>\n",
       "      <td>0.441562</td>\n",
       "      <td>0.429924</td>\n",
       "      <td>0.196210</td>\n",
       "      <td>0.808131</td>\n",
       "      <td>...</td>\n",
       "      <td>84.460</td>\n",
       "      <td>109.094</td>\n",
       "      <td>1</td>\n",
       "      <td>1</td>\n",
       "      <td>False</td>\n",
       "      <td>0.010403</td>\n",
       "      <td>3</td>\n",
       "      <td>70.597540</td>\n",
       "      <td>24.316344</td>\n",
       "      <td>59.694200</td>\n",
       "    </tr>\n",
       "    <tr>\n",
       "      <th>3</th>\n",
       "      <td>0.039997</td>\n",
       "      <td>0.558397</td>\n",
       "      <td>0.546043</td>\n",
       "      <td>0.526644</td>\n",
       "      <td>0.429348</td>\n",
       "      <td>0.060637</td>\n",
       "      <td>0.427246</td>\n",
       "      <td>0.507653</td>\n",
       "      <td>0.383033</td>\n",
       "      <td>0.592307</td>\n",
       "      <td>...</td>\n",
       "      <td>87.974</td>\n",
       "      <td>133.581</td>\n",
       "      <td>1</td>\n",
       "      <td>1</td>\n",
       "      <td>False</td>\n",
       "      <td>0.161447</td>\n",
       "      <td>4</td>\n",
       "      <td>120.335766</td>\n",
       "      <td>38.671533</td>\n",
       "      <td>115.408759</td>\n",
       "    </tr>\n",
       "    <tr>\n",
       "      <th>4</th>\n",
       "      <td>0.463466</td>\n",
       "      <td>0.426146</td>\n",
       "      <td>0.160350</td>\n",
       "      <td>0.409262</td>\n",
       "      <td>0.415742</td>\n",
       "      <td>0.181440</td>\n",
       "      <td>0.178657</td>\n",
       "      <td>0.484543</td>\n",
       "      <td>0.420328</td>\n",
       "      <td>0.908052</td>\n",
       "      <td>...</td>\n",
       "      <td>63.525</td>\n",
       "      <td>121.277</td>\n",
       "      <td>1</td>\n",
       "      <td>1</td>\n",
       "      <td>False</td>\n",
       "      <td>0.045107</td>\n",
       "      <td>5</td>\n",
       "      <td>58.125899</td>\n",
       "      <td>118.705036</td>\n",
       "      <td>110.339928</td>\n",
       "    </tr>\n",
       "  </tbody>\n",
       "</table>\n",
       "<p>5 rows × 49 columns</p>\n",
       "</div>"
      ],
      "text/plain": [
       "   001_IPF_0  001_IPF_1  001_IPF_2  100_IPF_0  100_IPF_1  100_IPF_2  \\\n",
       "0   0.314819   0.427569   0.274501   0.214385   0.460550   0.372547   \n",
       "1   0.216026   0.467399   0.384040   0.542158   0.444626   0.125266   \n",
       "2   0.117264   0.510865   0.470377   0.248346   0.467535   0.376097   \n",
       "3   0.039997   0.558397   0.546043   0.526644   0.429348   0.060637   \n",
       "4   0.463466   0.426146   0.160350   0.409262   0.415742   0.181440   \n",
       "\n",
       "   111_IPF_0  111_IPF_1  111_IPF_2  AspectRatios_0     ...      euler_2  \\\n",
       "0   0.255733   0.607882   0.669000        0.821072     ...      105.532   \n",
       "1   0.060509   0.545659   0.526708        0.896180     ...      116.838   \n",
       "2   0.441562   0.429924   0.196210        0.808131     ...       84.460   \n",
       "3   0.427246   0.507653   0.383033        0.592307     ...       87.974   \n",
       "4   0.178657   0.484543   0.420328        0.908052     ...       63.525   \n",
       "\n",
       "   euler_3  fileID  file_source  hotspot  mPrimeList  ngr           x  \\\n",
       "0   52.351       1            1    False    0.588892    1   18.311573   \n",
       "1  110.042       1            1    False    0.129135    2   97.708333   \n",
       "2  109.094       1            1    False    0.010403    3   70.597540   \n",
       "3  133.581       1            1    False    0.161447    4  120.335766   \n",
       "4  121.277       1            1    False    0.045107    5   58.125899   \n",
       "\n",
       "            y           z  \n",
       "0   66.718101  101.940653  \n",
       "1   45.970238   72.699405  \n",
       "2   24.316344   59.694200  \n",
       "3   38.671533  115.408759  \n",
       "4  118.705036  110.339928  \n",
       "\n",
       "[5 rows x 49 columns]"
      ]
     },
     "execution_count": 3,
     "metadata": {},
     "output_type": "execute_result"
    }
   ],
   "source": [
    "dataset_keys = ['001_IPF_0', '001_IPF_1', '001_IPF_2', '100_IPF_0', '100_IPF_1', '100_IPF_2', '111_IPF_0','111_IPF_1', '111_IPF_2',\n",
    " 'AspectRatios_0', 'AspectRatios_1', 'AvgMisorientations', 'EqVonMisesStress', 'EquivalentDiameters', 'Euler_1', 'Euler_2', 'Euler_3',\n",
    " 'F1List', 'F1sptList', 'F7List', 'FeatureBoundaryElementFrac', 'FeatureVolumes', 'GBEuc', 'KernelAvg', 'MisorientationList',\n",
    " 'NeighborList', 'Neighborhoods', 'NumCells', 'NumNeighbors', 'Omega3s', 'QPEuc', 'Schmid', 'SharedSurfaceAreaList', 'SurfaceAreaVolumeRatio',\n",
    " 'SurfaceFeatures', 'TJEuc', 'Taylor','Unnamed: 0', 'euler_1', 'euler_2', 'euler_3', 'fileID', 'file_source', 'hotspot',\n",
    " 'mPrimeList', 'ngr', 'x', 'y', 'z']\n",
    "\n",
    "grainwise_data = pd.DataFrame()\n",
    "for i,f in enumerate(grainwise_flist):\n",
    "    temp = pd.read_csv(f)\n",
    "    temp['file_source']=i+1\n",
    "    grainwise_data=grainwise_data.append(temp[dataset_keys])\n",
    "    \n",
    "#Show grainwise dataframe    \n",
    "grainwise_data.head()"
   ]
  },
  {
   "cell_type": "code",
   "execution_count": 4,
   "metadata": {},
   "outputs": [
    {
     "data": {
      "text/plain": [
       "Index(['001_IPF_0', '001_IPF_1', '001_IPF_2', '100_IPF_0', '100_IPF_1',\n",
       "       '100_IPF_2', '111_IPF_0', '111_IPF_1', '111_IPF_2', 'AspectRatios_0',\n",
       "       'AspectRatios_1', 'AvgMisorientations', 'EqVonMisesStress',\n",
       "       'EquivalentDiameters', 'Euler_1', 'Euler_2', 'Euler_3', 'F1List',\n",
       "       'F1sptList', 'F7List', 'FeatureBoundaryElementFrac', 'FeatureVolumes',\n",
       "       'GBEuc', 'KernelAvg', 'MisorientationList', 'NeighborList',\n",
       "       'Neighborhoods', 'NumCells', 'NumNeighbors', 'Omega3s', 'QPEuc',\n",
       "       'Schmid', 'SharedSurfaceAreaList', 'SurfaceAreaVolumeRatio',\n",
       "       'SurfaceFeatures', 'TJEuc', 'Taylor', 'Unnamed: 0', 'euler_1',\n",
       "       'euler_2', 'euler_3', 'fileID', 'file_source', 'hotspot', 'mPrimeList',\n",
       "       'ngr', 'x', 'y', 'z'],\n",
       "      dtype='object')"
      ]
     },
     "execution_count": 4,
     "metadata": {},
     "output_type": "execute_result"
    }
   ],
   "source": [
    "grainwise_data.columns"
   ]
  },
  {
   "cell_type": "code",
   "execution_count": 5,
   "metadata": {},
   "outputs": [
    {
     "name": "stdout",
     "output_type": "stream",
     "text": [
      "(185177, 49)\n"
     ]
    }
   ],
   "source": [
    "print(grainwise_data.shape)\n",
    "#There are 185177 grains in the dataset"
   ]
  },
  {
   "cell_type": "code",
   "execution_count": 6,
   "metadata": {},
   "outputs": [
    {
     "data": {
      "text/html": [
       "<div>\n",
       "<style scoped>\n",
       "    .dataframe tbody tr th:only-of-type {\n",
       "        vertical-align: middle;\n",
       "    }\n",
       "\n",
       "    .dataframe tbody tr th {\n",
       "        vertical-align: top;\n",
       "    }\n",
       "\n",
       "    .dataframe thead th {\n",
       "        text-align: right;\n",
       "    }\n",
       "</style>\n",
       "<table border=\"1\" class=\"dataframe\">\n",
       "  <thead>\n",
       "    <tr style=\"text-align: right;\">\n",
       "      <th></th>\n",
       "      <th>file_source</th>\n",
       "      <th>fileID</th>\n",
       "    </tr>\n",
       "  </thead>\n",
       "  <tbody>\n",
       "    <tr>\n",
       "      <th>0</th>\n",
       "      <td>1</td>\n",
       "      <td>1</td>\n",
       "    </tr>\n",
       "    <tr>\n",
       "      <th>1</th>\n",
       "      <td>1</td>\n",
       "      <td>1</td>\n",
       "    </tr>\n",
       "    <tr>\n",
       "      <th>2</th>\n",
       "      <td>1</td>\n",
       "      <td>1</td>\n",
       "    </tr>\n",
       "    <tr>\n",
       "      <th>3</th>\n",
       "      <td>1</td>\n",
       "      <td>1</td>\n",
       "    </tr>\n",
       "    <tr>\n",
       "      <th>4</th>\n",
       "      <td>1</td>\n",
       "      <td>1</td>\n",
       "    </tr>\n",
       "  </tbody>\n",
       "</table>\n",
       "</div>"
      ],
      "text/plain": [
       "   file_source  fileID\n",
       "0            1       1\n",
       "1            1       1\n",
       "2            1       1\n",
       "3            1       1\n",
       "4            1       1"
      ]
     },
     "execution_count": 6,
     "metadata": {},
     "output_type": "execute_result"
    }
   ],
   "source": [
    "#'file_source' tells the major texture class of the data\n",
    "#'fileID' tells the microstructure number the data belongs to in that class\n",
    "grainwise_data[['file_source','fileID']].head()"
   ]
  },
  {
   "cell_type": "code",
   "execution_count": 23,
   "metadata": {},
   "outputs": [
    {
     "data": {
      "text/plain": [
       "(42.905364730500004, 173.584733106)"
      ]
     },
     "execution_count": 23,
     "metadata": {},
     "output_type": "execute_result"
    }
   ],
   "source": [
    "grainwise_data.EqVonMisesStress.min(),grainwise_data.EqVonMisesStress.max()"
   ]
  },
  {
   "cell_type": "code",
   "execution_count": null,
   "metadata": {},
   "outputs": [],
   "source": []
  },
  {
   "cell_type": "code",
   "execution_count": 7,
   "metadata": {},
   "outputs": [
    {
     "data": {
      "text/html": [
       "<div>\n",
       "<style scoped>\n",
       "    .dataframe tbody tr th:only-of-type {\n",
       "        vertical-align: middle;\n",
       "    }\n",
       "\n",
       "    .dataframe tbody tr th {\n",
       "        vertical-align: top;\n",
       "    }\n",
       "\n",
       "    .dataframe thead th {\n",
       "        text-align: right;\n",
       "    }\n",
       "</style>\n",
       "<table border=\"1\" class=\"dataframe\">\n",
       "  <thead>\n",
       "    <tr style=\"text-align: right;\">\n",
       "      <th></th>\n",
       "      <th>file_source</th>\n",
       "      <th>fileID</th>\n",
       "    </tr>\n",
       "  </thead>\n",
       "  <tbody>\n",
       "    <tr>\n",
       "      <th>30750</th>\n",
       "      <td>6</td>\n",
       "      <td>6</td>\n",
       "    </tr>\n",
       "    <tr>\n",
       "      <th>30751</th>\n",
       "      <td>6</td>\n",
       "      <td>6</td>\n",
       "    </tr>\n",
       "    <tr>\n",
       "      <th>30752</th>\n",
       "      <td>6</td>\n",
       "      <td>6</td>\n",
       "    </tr>\n",
       "    <tr>\n",
       "      <th>30753</th>\n",
       "      <td>6</td>\n",
       "      <td>6</td>\n",
       "    </tr>\n",
       "    <tr>\n",
       "      <th>30754</th>\n",
       "      <td>6</td>\n",
       "      <td>6</td>\n",
       "    </tr>\n",
       "  </tbody>\n",
       "</table>\n",
       "</div>"
      ],
      "text/plain": [
       "       file_source  fileID\n",
       "30750            6       6\n",
       "30751            6       6\n",
       "30752            6       6\n",
       "30753            6       6\n",
       "30754            6       6"
      ]
     },
     "execution_count": 7,
     "metadata": {},
     "output_type": "execute_result"
    }
   ],
   "source": [
    "grainwise_data[['file_source','fileID']].tail()"
   ]
  },
  {
   "cell_type": "code",
   "execution_count": 8,
   "metadata": {},
   "outputs": [],
   "source": [
    "features= ['001_IPF_0', '001_IPF_1', '001_IPF_2','100_IPF_0', '100_IPF_1', '100_IPF_2', '111_IPF_0','111_IPF_1', '111_IPF_2',\n",
    " 'AspectRatios_0', 'AspectRatios_1', 'AvgMisorientations', 'EquivalentDiameters', 'FeatureBoundaryElementFrac', 'FeatureVolumes', 'GBEuc', 'KernelAvg', 'Neighborhoods', 'NumNeighbors', 'Omega3s', 'QPEuc', 'Schmid', 'SurfaceAreaVolumeRatio',\n",
    " 'SurfaceFeatures', 'TJEuc', 'hotspot','fileID', 'file_source',\n",
    " 'mPrimeList']\n"
   ]
  },
  {
   "cell_type": "code",
   "execution_count": 9,
   "metadata": {},
   "outputs": [
    {
     "data": {
      "text/plain": [
       "29"
      ]
     },
     "execution_count": 9,
     "metadata": {},
     "output_type": "execute_result"
    }
   ],
   "source": [
    "len(features)"
   ]
  },
  {
   "cell_type": "code",
   "execution_count": 65,
   "metadata": {},
   "outputs": [],
   "source": [
    "df=grainwise_data[features]\n"
   ]
  },
  {
   "cell_type": "code",
   "execution_count": 66,
   "metadata": {},
   "outputs": [],
   "source": [
    "df.to_csv(\"df_impfeatures_withid.csv\", index=False)"
   ]
  },
  {
   "cell_type": "code",
   "execution_count": 67,
   "metadata": {},
   "outputs": [
    {
     "data": {
      "text/plain": [
       "(185177, 29)"
      ]
     },
     "execution_count": 67,
     "metadata": {},
     "output_type": "execute_result"
    }
   ],
   "source": [
    "df.shape"
   ]
  },
  {
   "cell_type": "code",
   "execution_count": 12,
   "metadata": {},
   "outputs": [],
   "source": [
    "grainwise_data.to_csv(\"grainwise_data.csv\", index=False)"
   ]
  },
  {
   "cell_type": "code",
   "execution_count": 13,
   "metadata": {},
   "outputs": [
    {
     "data": {
      "text/plain": [
       "(185177, 49)"
      ]
     },
     "execution_count": 13,
     "metadata": {},
     "output_type": "execute_result"
    }
   ],
   "source": [
    "grainwise_data.shape"
   ]
  }
 ],
 "metadata": {
  "kernelspec": {
   "display_name": "Python 3",
   "language": "python",
   "name": "python3"
  },
  "language_info": {
   "codemirror_mode": {
    "name": "ipython",
    "version": 3
   },
   "file_extension": ".py",
   "mimetype": "text/x-python",
   "name": "python",
   "nbconvert_exporter": "python",
   "pygments_lexer": "ipython3",
   "version": "3.6.5"
  }
 },
 "nbformat": 4,
 "nbformat_minor": 2
}
